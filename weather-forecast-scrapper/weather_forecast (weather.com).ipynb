{
 "cells": [
  {
   "cell_type": "code",
   "execution_count": 3,
   "id": "74804765",
   "metadata": {},
   "outputs": [
    {
     "name": "stdout",
     "output_type": "stream",
     "text": [
      "{'location': 'USNY0996:1:US', 'current_temperature': None, 'current_condition': None, 'feels_like': None, 'wind': None, 'humidity': None}\n"
     ]
    }
   ],
   "source": [
    "import requests\n",
    "from bs4 import BeautifulSoup\n",
    "\n",
    "def get_weather_data(location):\n",
    "    url = f\"https://weather.com/weather/today/l/{location}\"\n",
    "    headers = {\n",
    "        \"User-Agent\": \"Mozilla/5.0 (Windows NT 10.0; Win64; x64) AppleWebKit/537.36 (KHTML, like Gecko) Chrome/112.0.0.0 Safari/537.36\"\n",
    "    }\n",
    "    response = requests.get(url, headers=headers)\n",
    "    soup = BeautifulSoup(response.content, \"html.parser\")\n",
    "\n",
    "    current_temperature = soup.find(\"span\", class_=\"CurrentConditions--tempValue--3KcTQ\")\n",
    "    current_condition = soup.find(\"div\", class_=\"CurrentConditions--phraseValue--2xXSr\")\n",
    "    feels_like = soup.find(\"span\", class_=\"CurrentConditions--feelsLikeValue--2xXSr\")\n",
    "    wind = soup.find(\"span\", class_=\"CurrentConditions--windValue--2xXSr\")\n",
    "    humidity = soup.find(\"span\", class_=\"CurrentConditions--humidityValue--2xXSr\")\n",
    "\n",
    "    data = {\n",
    "        \"location\": location,\n",
    "        \"current_temperature\": current_temperature,\n",
    "        \"current_condition\": current_condition,\n",
    "        \"feels_like\": feels_like,\n",
    "        \"wind\": wind,\n",
    "        \"humidity\": humidity\n",
    "    }\n",
    "\n",
    "    return data\n",
    "\n",
    "location = \"USNY0996:1:US\"  # New York City\n",
    "weather_data = get_weather_data(location)\n",
    "print(weather_data)"
   ]
  },
  {
   "cell_type": "code",
   "execution_count": 1,
   "id": "beb92401",
   "metadata": {},
   "outputs": [],
   "source": [
    "import requests\n",
    "from bs4 import BeautifulSoup"
   ]
  },
  {
   "cell_type": "code",
   "execution_count": 2,
   "id": "ae61c28b",
   "metadata": {},
   "outputs": [],
   "source": [
    "header = {\"User-Agent\": \"Mozilla/5.0 (Windows NT 10.0; Win64; x64) AppleWebKit/537.36 (KHTML, like Gecko) Chrome/100.0.4896.86 Safari/537.36\",\n",
    "         'Referer':'https://weather.com/'}"
   ]
  },
  {
   "cell_type": "code",
   "execution_count": 3,
   "id": "a7e0f751",
   "metadata": {},
   "outputs": [
    {
     "name": "stdout",
     "output_type": "stream",
     "text": [
      "<Response [200]>\n"
     ]
    }
   ],
   "source": [
    "url=\"https://weather.com/\"\n",
    "r=requests.get(url)\n",
    "print(r)"
   ]
  },
  {
   "cell_type": "code",
   "execution_count": 4,
   "id": "23802222",
   "metadata": {},
   "outputs": [],
   "source": [
    "soup=BeautifulSoup(r.text,\"lxml\")\n",
    "box=soup.find(\"h2\",class_=\"Card--cardHeading--2H1-_\")"
   ]
  },
  {
   "cell_type": "code",
   "execution_count": 5,
   "id": "7b49f1d7",
   "metadata": {},
   "outputs": [
    {
     "name": "stdout",
     "output_type": "stream",
     "text": [
      "['Rajpath Area']\n"
     ]
    }
   ],
   "source": [
    "Location=[]\n",
    "location= soup.find(\"h2\",class_=\"Card--cardHeading--2H1-_\")\n",
    "for i in location :\n",
    "  loc = i.text.replace(', दिल्ली के लिए आज का पूर्वानुमान','')\n",
    "  Location.append(loc)\n",
    "print(Location)"
   ]
  },
  {
   "cell_type": "code",
   "execution_count": 6,
   "id": "38af2cb3",
   "metadata": {},
   "outputs": [
    {
     "name": "stdout",
     "output_type": "stream",
     "text": [
      "['Temparature:38°']\n"
     ]
    }
   ],
   "source": [
    "Feels_like=[]\n",
    "feel=soup.find('div',class_='TodayDetailsCard--feelsLikeTemp--2x1SW')\n",
    "Feels_like.append(feel.text.strip().replace('ऐसी अनुभूति','Temparature:'))\n",
    "print(Feels_like)"
   ]
  },
  {
   "cell_type": "code",
   "execution_count": 7,
   "id": "5d33bfd0",
   "metadata": {},
   "outputs": [
    {
     "name": "stdout",
     "output_type": "stream",
     "text": [
      "Humidity : ['--/27°']\n"
     ]
    }
   ],
   "source": [
    "Humidity=[]\n",
    "hum=soup.find('div',class_='WeatherDetailsListItem--wxData--kK35q')\n",
    "Humidity.append(hum.text)\n",
    "print('Humidity :',Humidity) "
   ]
  },
  {
   "cell_type": "code",
   "execution_count": 8,
   "id": "0ada53f5",
   "metadata": {},
   "outputs": [
    {
     "name": "stdout",
     "output_type": "stream",
     "text": [
      "Wind Speed : ['Wind Direction |13 km/hr']\n"
     ]
    }
   ],
   "source": [
    "Wind=[]\n",
    "winds=soup.find('span',class_='Wind--windWrapper--3Ly7c undefined')\n",
    "Wind.append(winds.text.strip().replace('on','on |').replace ('\\xa0किमी/घं',' km/hr'))\n",
    "print('Wind Speed :',Wind) "
   ]
  },
  {
   "cell_type": "code",
   "execution_count": 9,
   "id": "6e224778",
   "metadata": {},
   "outputs": [
    {
     "name": "stdout",
     "output_type": "stream",
     "text": [
      "Pressure : ['Arrow Down1004.1 mb']\n"
     ]
    }
   ],
   "source": [
    "Pressure=[]\n",
    "press=soup.find('span',class_='Pressure--pressureWrapper--3SCLm undefined')\n",
    "Pressure.append(press.text.strip().replace('Arrow Up','_'))\n",
    "print('Pressure :',Pressure) "
   ]
  },
  {
   "cell_type": "code",
   "execution_count": 10,
   "id": "777cc075",
   "metadata": {},
   "outputs": [
    {
     "name": "stdout",
     "output_type": "stream",
     "text": [
      "Visibility : ['4.02 km']\n"
     ]
    }
   ],
   "source": [
    "Visibility=[]\n",
    "visi=soup.find('span',{'data-testid':'VisibilityValue'})\n",
    "Visibility.append(visi.text.strip().replace('किमी','km'))\n",
    "print('Visibility :',Visibility) "
   ]
  },
  {
   "cell_type": "code",
   "execution_count": 11,
   "id": "9fcc93ad",
   "metadata": {},
   "outputs": [
    {
     "name": "stdout",
     "output_type": "stream",
     "text": [
      "WEATHER DETAILS\n",
      "['Rajpath Area']\n",
      "['Temparature:38°']\n",
      "['--/27°']\n",
      "['Wind Direction |13 km/hr']\n",
      "['Arrow Down1004.1 mb']\n",
      "['4.02 km']\n"
     ]
    }
   ],
   "source": [
    "print ('WEATHER DETAILS')\n",
    "print(Location)\n",
    "print(Feels_like)\n",
    "print(Humidity)\n",
    "print(Wind)\n",
    "print(Pressure)\n",
    "print(Visibility)"
   ]
  }
 ],
 "metadata": {
  "kernelspec": {
   "display_name": "Python 3 (ipykernel)",
   "language": "python",
   "name": "python3"
  },
  "language_info": {
   "codemirror_mode": {
    "name": "ipython",
    "version": 3
   },
   "file_extension": ".py",
   "mimetype": "text/x-python",
   "name": "python",
   "nbconvert_exporter": "python",
   "pygments_lexer": "ipython3",
   "version": "3.11.4"
  }
 },
 "nbformat": 4,
 "nbformat_minor": 5
}
